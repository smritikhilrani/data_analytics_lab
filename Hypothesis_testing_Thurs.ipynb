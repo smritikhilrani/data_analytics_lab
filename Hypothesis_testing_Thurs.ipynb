{
 "cells": [
  {
   "cell_type": "code",
   "execution_count": 1,
   "id": "dc0cbbf0",
   "metadata": {},
   "outputs": [],
   "source": [
    "import numpy as np\n",
    "import pandas as pd\n",
    "import scipy.stats as stats\n",
    "import matplotlib.pyplot as plt\n",
    "import seaborn as sns\n",
    "\n",
    "%matplotlib inline"
   ]
  },
  {
   "cell_type": "markdown",
   "id": "aad05caa",
   "metadata": {},
   "source": [
    "#### Ho : mean of sample from Honolulu Heart Study = 120 mm Hg (Not - Different)\n",
    "#### Ha : mean of sample from Honolulu Heart Study != 120 mm Hg (Different)"
   ]
  },
  {
   "cell_type": "code",
   "execution_count": 12,
   "id": "a077066d",
   "metadata": {},
   "outputs": [],
   "source": [
    "sample_mean = 130.1\n",
    "pop_mean = 120\n",
    "sample_std_dev = 21.21"
   ]
  },
  {
   "cell_type": "code",
   "execution_count": 13,
   "id": "3beba992",
   "metadata": {},
   "outputs": [
    {
     "name": "stdout",
     "output_type": "stream",
     "text": [
      "Our z score is: 4.76\n"
     ]
    }
   ],
   "source": [
    "t = ( sample_mean - pop_mean ) / ( sample_std_dev / np.sqrt(100) )\n",
    "print(\"Our z score is: {:.2f}\".format(t))"
   ]
  },
  {
   "cell_type": "code",
   "execution_count": 16,
   "id": "75bdc2cc",
   "metadata": {},
   "outputs": [],
   "source": [
    "import scipy.stats\n",
    "tc = scipy.stats.t.ppf(q=1-.05/2,df=99)"
   ]
  },
  {
   "cell_type": "code",
   "execution_count": 17,
   "id": "b920fd4a",
   "metadata": {},
   "outputs": [
    {
     "data": {
      "text/plain": [
       "1.9842169515086827"
      ]
     },
     "execution_count": 17,
     "metadata": {},
     "output_type": "execute_result"
    }
   ],
   "source": [
    "tc"
   ]
  },
  {
   "cell_type": "markdown",
   "id": "222b00f6",
   "metadata": {},
   "source": [
    "#####  t test > tc \n",
    "##### we reject the null hypothesis"
   ]
  },
  {
   "cell_type": "code",
   "execution_count": null,
   "id": "9e0d773b",
   "metadata": {},
   "outputs": [],
   "source": []
  }
 ],
 "metadata": {
  "kernelspec": {
   "display_name": "Python 3 (ipykernel)",
   "language": "python",
   "name": "python3"
  },
  "language_info": {
   "codemirror_mode": {
    "name": "ipython",
    "version": 3
   },
   "file_extension": ".py",
   "mimetype": "text/x-python",
   "name": "python",
   "nbconvert_exporter": "python",
   "pygments_lexer": "ipython3",
   "version": "3.9.12"
  }
 },
 "nbformat": 4,
 "nbformat_minor": 5
}
